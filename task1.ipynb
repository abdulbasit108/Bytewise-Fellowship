{
 "cells": [
  {
   "attachments": {},
   "cell_type": "markdown",
   "metadata": {},
   "source": [
    "### Bytewise Fellowship\n",
    "\n",
    "### Abdul Basit\n",
    "\n",
    "### Task 1"
   ]
  },
  {
   "attachments": {},
   "cell_type": "markdown",
   "metadata": {},
   "source": [
    "##### What is Flutter? \n",
    "\n",
    "Google UI toolkit for building natively compiled apps for mobile, web and desktop\n",
    "\n",
    "Build iOS and Android apps using a single codebase\n",
    "\n",
    "Cross Platform - Mac / Windows / Linux"
   ]
  },
  {
   "attachments": {},
   "cell_type": "markdown",
   "metadata": {},
   "source": [
    "##### How Flutter works?\n",
    "\n",
    "Flutter uses an OOP language called Dart\n",
    "\n",
    "Optimized for UI\n",
    "\n",
    "Similar to JS \n",
    "\n",
    "Flutter provides a rich set of pre-built widgets and tools\n"
   ]
  },
  {
   "attachments": {},
   "cell_type": "markdown",
   "metadata": {},
   "source": [
    "##### Why we use Flutter instead of using Native platforms?\n",
    "\n",
    "Cross-Platform Development\n",
    "\n",
    "Faster Development\n",
    "\n",
    "High Performance\n",
    "\n",
    "Strong Community Support\n",
    "\n"
   ]
  },
  {
   "cell_type": "code",
   "execution_count": null,
   "metadata": {},
   "outputs": [],
   "source": []
  }
 ],
 "metadata": {
  "kernelspec": {
   "display_name": "Python 3",
   "language": "python",
   "name": "python3"
  },
  "language_info": {
   "name": "python",
   "version": "3.10.2"
  },
  "orig_nbformat": 4
 },
 "nbformat": 4,
 "nbformat_minor": 2
}
